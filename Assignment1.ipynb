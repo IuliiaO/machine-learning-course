{
 "cells": [
  {
   "cell_type": "markdown",
   "metadata": {},
   "source": [
    "# Assignment 1 - Probability, Linear Algebra, Programming, and Git\n",
    "\n",
    "## *Iuliia Oblasova*\n",
    "Netid:  *io26*"
   ]
  },
  {
   "cell_type": "markdown",
   "metadata": {},
   "source": [
    "# Probability and Statistics Theory"
   ]
  },
  {
   "cell_type": "markdown",
   "metadata": {
    "collapsed": true
   },
   "source": [
    "## 1\n",
    "Let $f(x) = \\begin{cases}\n",
    "                0           & x < 0  \\\\\n",
    "                \\alpha x^2  & 0 \\leq x \\leq 2 \\\\\n",
    "                0           & 2 < x\n",
    "            \\end{cases}$\n",
    "            \n",
    "For what value of $\\alpha$ is $f(x)$ a valid probability density function?\n",
    "\n",
    "*Note: for all assignments, write out all equations and math for all assignments using markdown and [LaTeX](https://tobi.oetiker.ch/lshort/lshort.pdf) and show all work*"
   ]
  },
  {
   "cell_type": "markdown",
   "metadata": {},
   "source": [
    "**ANSWER**"
   ]
  },
  {
   "cell_type": "markdown",
   "metadata": {},
   "source": [
    "First,  $f(x)$ is nonnegative function for $a$$\\in$$R$. Second, the PDF (probability density function) should integrate to 1 and $\\int_0^2ax^2 dx = \\frac{ax^3}{3}$. Therefore, $\\frac{8a}{3} = 1$ and $a = \\frac{3}{8}. $ \n",
    "\n",
    "For $a=\\frac{3}{8}$, $f(x)$ is a valid probability density function since it is non-negative and integrates to one."
   ]
  },
  {
   "cell_type": "markdown",
   "metadata": {},
   "source": [
    "## 2\n",
    "What is the cumulative distribution function (CDF) that corresponds to the following probability distribution function? Please state the value of the CDF for all possible values of $x$.\n",
    "\n",
    "$f(x) = \\begin{cases}\n",
    "    \\frac{1}{3} & 0 < x < 3 \\\\\n",
    "    0           & \\text{otherwise}\n",
    "    \\end{cases}$"
   ]
  },
  {
   "cell_type": "markdown",
   "metadata": {},
   "source": [
    "**ANSWER**"
   ]
  },
  {
   "cell_type": "markdown",
   "metadata": {},
   "source": [
    "The CDF is the integral of the PDF and in this case is\n",
    "\n",
    "CDF: $\\int_{-\\infty}^{x} f(x) \\,dx=\\begin{cases}\n",
    "    0 & x\\leq 0\\\\\n",
    "    \\frac{1}{3}x & 0 < x < 3 \\\\\n",
    "    1           & \\text{otherwise,}\n",
    "    \\end{cases}$<br>\n",
    "    \n",
    "where $F(x)$ is CDF.\n",
    "\n"
   ]
  },
  {
   "cell_type": "markdown",
   "metadata": {},
   "source": [
    "## 3\n",
    "For the probability distribution function for the random variable $X$,\n",
    "\n",
    "$f(x) = \\begin{cases}\n",
    "    \\frac{1}{3} & 0 < x < 3 \\\\\n",
    "    0           & \\text{otherwise}\n",
    "    \\end{cases}$\n",
    "    \n",
    "what is the (a) expected value and (b) variance of $X$. *Show all work*."
   ]
  },
  {
   "cell_type": "markdown",
   "metadata": {},
   "source": [
    "**ANSWER**<br>\n",
    "\n",
    "(a) Expected value:<br>\n",
    "If X is a continious random variable with range [a, b] and probability density function is $f(x)$, the expected value E[X] = $\\int_a^b f(x)dx.$<br>\n",
    "In our case $E[X] = \\int_0^3\\frac{1}{3}x dx = \\frac{1}{6}x^2| _0^3 = \\frac{3}{2}$, so not surprisingly the mean is the midpoint of the range, since the probability density increases as x increases.<br>\n",
    "\n",
    "(b) Variance:<br>\n",
    "By definition, the variance of X is equal to the mean of the square of X minus the square of the mean of X.<br>\n",
    "$Var[X] = E[X^2] - E[X]^2$.<br>\n",
    "$E[X^2] = \\int_0^3\\frac{1}{3}x^2 dx = \\frac{1}{9}x^3 | _0^3 = 3$.<br>\n",
    "Therefore, $Var[X] = 3 - (\\frac{3}{2})^2 = 0.75$."
   ]
  },
  {
   "cell_type": "markdown",
   "metadata": {},
   "source": [
    "## 4\n",
    "Consider the following table of data that provides the values of a discrete data vector $\\mathbf{x}$ of samples from the random variable $X$, where each entry in $\\mathbf{x}$ is given as $x_i$.\n",
    "\n",
    "*Table 1. Dataset N=5 observations*\n",
    "\n",
    "|        | $x_0$ | $x_1$ | $x_2$ | $x_3$ | $x_4$ |\n",
    "|------  |-------|-------|-------|-------|-------|\n",
    "|$\\textbf{x}$| 2     | 3     | 10    | -1    | -1    |\n",
    "\n",
    "What is the (a) mean, (b) variance, and the  of the data? \n",
    "\n",
    "*Show all work. Your answer should include the definition of mean, median, and variance in the context of discrete data.*"
   ]
  },
  {
   "cell_type": "markdown",
   "metadata": {},
   "source": [
    "**ANSWER**"
   ]
  },
  {
   "cell_type": "markdown",
   "metadata": {},
   "source": [
    "The mean of $n$ random observations is $\\bar{x} = \\frac{\\sum_{i=0}^n x_i}{n}$, where $n$ is the number of values in a set. In our case $\\bar{x} = \\frac{2+3+10+(-1)+(-1)}{5} = 2.6$.<br>\n",
    "The variance of $n$ random observations is $\\sigma^2 = \\frac{\\sum_{i=0}^n (x_i - \\bar{x})^2}{n}$.\n",
    "$\\sigma^2 = \\frac{(2-2.6)^2+(3-2.6)^2+(10-2.6)^2+(-1-2.6)^2+(-1+2.6)^2}{5} = 16.24.$<br>\n",
    "The median can be found by arranging all numbers from the smallest to the greatest and taking the value in a middle of the set if it contains an odd number of values. If the set contains an even number of values, an average between two central values is the mean of the set. In other words, median(x) = $\\frac{x_{n:2} + x_{n:2+1}}{2}$, where $n$ is a number of observations.\n",
    "Arranging the set from the smallest to the largest we have $x$ = [-1, -1, 2, 3, 10]. The value in a middle is 2, which is the median of our set.\n",
    "\n",
    "Let's check the calculation using Python."
   ]
  },
  {
   "cell_type": "code",
   "execution_count": 56,
   "metadata": {},
   "outputs": [
    {
     "name": "stdout",
     "output_type": "stream",
     "text": [
      "The mean of the data set is  2.6\n",
      "The median of the data set is  2\n",
      "The variance of the data set is  16.24\n"
     ]
    }
   ],
   "source": [
    "import statistics \n",
    "x=[2,3,10,-1,-1]\n",
    "print (\"The mean of the data set is \", statistics.mean(x))\n",
    "print (\"The median of the data set is \", statistics.median(x))\n",
    "print (\"The variance of the data set is \", round(statistics.pvariance(x),3))"
   ]
  },
  {
   "cell_type": "markdown",
   "metadata": {},
   "source": [
    "## 5\n",
    "Review of counting from probability theory. \n",
    "\n",
    "(a) How many different 7-place license plates are possible if the first 3 places only contain letters and the last 4 only contain numbers?\n",
    "\n",
    "(b) How many different batting orders are possible for a baseball team with 9 players?\n",
    "\n",
    "(c) How many batting orders of 5 players are possible for a team with 9 players total?\n",
    "\n",
    "(d) Let's assume this class has 26 students and we want to form project teams. How many unique teams of 3 are possible?\n",
    "\n",
    "*Hint: For each problem, determine if order matters, and if it should be calculated with or without replacement.*"
   ]
  },
  {
   "cell_type": "markdown",
   "metadata": {},
   "source": [
    "**ANSWER**\n",
    "\n",
    "(a) Since the selection happens with replacement and order matters, the total number of different liscence plates is $26^3 \\cdot 10^4 = 175760000$.\n",
    "\n",
    "(b) The selection happens without replacement and the number of permutations is $9! = 362880$ orders. \n",
    "\n",
    "(c) Because the order to choose players is important and the selection happens without replacement, the number of batting orders is ${^9P_5} = 3024$ orders.\n",
    "\n",
    "(d) In this case order does not matter and the selection happens without replacement, so the total number of teams is  ${26 \\choose 3} = 2600$ teams. \n",
    "\n"
   ]
  },
  {
   "cell_type": "markdown",
   "metadata": {},
   "source": [
    "# Linear Algebra"
   ]
  },
  {
   "cell_type": "markdown",
   "metadata": {},
   "source": [
    "## 6\n",
    "**Matrix manipulations and multiplication**. Machine learning involves working with many matrices, so this exercise will provide you with the opportunity to practice those skills.\n",
    "\n",
    "Let\n",
    "$\\mathbf{A} =  \\begin{bmatrix}\n",
    "1 & 2 & 3 \\\\\n",
    "2 & 4 & 5 \\\\\n",
    "3 & 5 & 6 \n",
    "\\end{bmatrix}$, $\\mathbf{b} =  \\begin{bmatrix}\n",
    "-1  \\\\\n",
    "3  \\\\\n",
    "8  \n",
    "\\end{bmatrix}$, $\\mathbf{c} =  \\begin{bmatrix}\n",
    "4  \\\\\n",
    "-3  \\\\\n",
    "6  \n",
    "\\end{bmatrix}$, and $\\mathbf{I} =  \\begin{bmatrix}\n",
    "1 & 0 & 0 \\\\\n",
    "0 & 1 & 0 \\\\\n",
    "0 & 0 & 1 \n",
    "\\end{bmatrix}$\n",
    "\n",
    "Compute the following or indicate that it cannot be computed:\n",
    "\n",
    "1. $\\mathbf{A}\\mathbf{A}$\n",
    "2. $\\mathbf{A}\\mathbf{A}^T$\n",
    "3. $\\mathbf{A}\\mathbf{b}$\n",
    "4. $\\mathbf{A}\\mathbf{b}^T$\n",
    "5. $\\mathbf{b}\\mathbf{A}$\n",
    "6. $\\mathbf{b}^T\\mathbf{A}$\n",
    "7. $\\mathbf{b}\\mathbf{b}$\n",
    "8. $\\mathbf{b}^T\\mathbf{b}$\n",
    "9. $\\mathbf{b}\\mathbf{b}^T$\n",
    "10. $\\mathbf{b} + \\mathbf{c}^T$\n",
    "11. $\\mathbf{b}^T\\mathbf{b}^T$\n",
    "12. $\\mathbf{A}^{-1}\\mathbf{b}$\n",
    "13. $\\mathbf{A}\\circ\\mathbf{A}$\n",
    "14. $\\mathbf{b}\\circ\\mathbf{c}$\n",
    "\n",
    "*Note: The element-wise (or Hadamard) product is the product of each element in one matrix with the corresponding element in another matrix, and is represented by the symbol \"$\\circ$\".*"
   ]
  },
  {
   "cell_type": "code",
   "execution_count": 3,
   "metadata": {},
   "outputs": [
    {
     "name": "stdout",
     "output_type": "stream",
     "text": [
      "1.\u001b[1m AA \u001b[0m =\n",
      " [[14 25 31]\n",
      " [25 45 56]\n",
      " [31 56 70]]\n",
      "2.\u001b[1m AAᵀ\u001b[0m =\n",
      " [[14 25 31]\n",
      " [25 45 56]\n",
      " [31 56 70]]\n",
      "3. This multiplication cannot be performed\n",
      "4.\u001b[1m Abᵀ\u001b[0m =\n",
      " [[29]\n",
      " [50]\n",
      " [60]]\n",
      "5.\u001b[1m bA\u001b[0m =\n",
      " [[29 50 60]]\n",
      "6. This multiplication cannot be performed\n",
      "7. This multiplication cannot be performed\n",
      "8.\u001b[1m bᵀ\u001b[1m b\u001b[0m =\n",
      " [[ 1 -3 -8]\n",
      " [-3  9 24]\n",
      " [-8 24 64]]\n",
      "9.\u001b[1m bbᵀ\u001b[0m =\n",
      " [[74]]\n",
      "10.\u001b[1m b + \u001b[1m cᵀ\u001b[0m =\n",
      " [[ 3  7 12]\n",
      " [-4  0  5]\n",
      " [ 5  9 14]]\n",
      "11. This multiplication cannot be performed\n",
      "12. This multiplication cannot be performed\n",
      "13.\u001b[1m A∘A\u001b[0m = \n",
      " [[ 1  4  9]\n",
      " [ 4 16 25]\n",
      " [ 9 25 36]]\n",
      "14.\u001b[1m b∘c\u001b[0m =\n",
      " [[-4 -9 48]]\n"
     ]
    }
   ],
   "source": [
    "import numpy as np\n",
    "from numpy import linalg as LA\n",
    "\n",
    "import sys\n",
    "A=np.matrix([[1,2,3],[2,4,5],[3,5,6]])\n",
    "b=np.matrix([-1,3,8])\n",
    "c=np.matrix([4,-3,6])\n",
    "I=np.matrix([[1,0,0],[0,1,0],[0,0,1]])\n",
    "\n",
    "try:\n",
    "    print(\"1.\\033[1m AA \\033[0m =\\n\", A*A)\n",
    "except ValueError:\n",
    "    print(\"1. This multiplication cannot be performed\")\n",
    "    pass\n",
    "try:\n",
    "    print (\"2.\\033[1m AA\\u1d40\\033[0m =\\n\", A*A.transpose())\n",
    "except ValueError:\n",
    "    print(\"2. This multiplication cannot be performed\")\n",
    "    pass\n",
    "try:\n",
    "    print (\"3.\\n\", A*b)\n",
    "except ValueError:\n",
    "    print(\"3. This multiplication cannot be performed\")\n",
    "    pass\n",
    "try:\n",
    "    print (\"4.\\033[1m Ab\\u1d40\\033[0m =\\n\", A*b.transpose())\n",
    "except ValueError:\n",
    "    print(\"4. This multiplication cannot be performed\")\n",
    "    pass\n",
    "try:\n",
    "    print (\"5.\\033[1m bA\\033[0m =\\n\", b*A)\n",
    "except ValueError:\n",
    "    print(\"5. This multiplication cannot be performed\")\n",
    "    pass \n",
    "try:\n",
    "    print (\"6.\\n\",b.transpose()*A)\n",
    "except ValueError:\n",
    "    print(\"6. This multiplication cannot be performed\")\n",
    "    pass \n",
    "try:\n",
    "    print (\"7.\\n\", b*b)\n",
    "except ValueError:\n",
    "    print(\"7. This multiplication cannot be performed\")\n",
    "    pass \n",
    "try:\n",
    "    print (\"8.\\033[1m b\\u1d40\\033[1m b\\033[0m =\\n\", b.transpose()*b)\n",
    "except ValueError:\n",
    "    print(\"8. This multiplication cannot be performed\")\n",
    "    pass \n",
    "try:\n",
    "    print (\"9.\\033[1m bb\\u1d40\\033[0m =\\n\", b*b.transpose())\n",
    "except ValueError:\n",
    "    print(\"9. This multiplication cannot be performed\")\n",
    "    pass \n",
    "try:\n",
    "    print (\"10.\\033[1m b + \\033[1m c\\u1d40\\033[0m =\\n\", b+c.transpose())\n",
    "except ValueError:\n",
    "    print(\"10. This multiplication cannot be performed\")\n",
    "    pass \n",
    "try:\n",
    "    print (\"11.\\n\", b.transpose()*b.transpose())\n",
    "except ValueError:\n",
    "    print(\"11. This multiplication cannot be performed\")\n",
    "    pass \n",
    "try:\n",
    "    print (\"12.\\n\", np.linalg.inv(A)*b)\n",
    "except ValueError:\n",
    "    print(\"12. This multiplication cannot be performed\")\n",
    "    pass \n",
    "try:\n",
    "    print (\"13.\\033[1m A\\u2218A\\033[0m = \\n\", np.multiply(A,A))\n",
    "except ValueError:\n",
    "    print(\"13. This multiplication cannot be performed\")\n",
    "    pass \n",
    "try:\n",
    "    print (\"14.\\033[1m b\\u2218c\\033[0m =\\n\", np.multiply(b,c))\n",
    "except ValueError:\n",
    "    print(\"14. This multiplication cannot be performed\")\n",
    "    pass "
   ]
  },
  {
   "cell_type": "markdown",
   "metadata": {},
   "source": [
    "**ANSWER**"
   ]
  },
  {
   "cell_type": "code",
   "execution_count": 4,
   "metadata": {},
   "outputs": [
    {
     "name": "stdout",
     "output_type": "stream",
     "text": [
      "1.a). Eigenvalues of the matrix A: λ₁= 11.344814282762082 ; λ₂= -0.5157294715892574 ; λ₃= 0.1709151888271788 \n",
      "\n",
      "1.b). Corresponding eigonvectors:\n",
      " \u001b[1m v₁\u001b[0m =  [[-0.32798528 -0.59100905 -0.73697623]] \n",
      " \u001b[1m v₂\u001b[0m =  [[-0.73697623 -0.32798528  0.59100905]] \n",
      " \u001b[1m v₃\u001b[0m =  [[ 0.59100905 -0.73697623  0.32798528]]\n"
     ]
    }
   ],
   "source": [
    "import numpy as np\n",
    "from numpy import linalg as LA\n",
    "\n",
    "eigenvalues, eigenvectors = np.linalg.eig(A)\n",
    "a1=eigenvalues[0]; a2=eigenvalues[1];a3=eigenvalues[2]\n",
    "print(\"1.a). Eigenvalues of the matrix A:\", u\"\\u03BB\\u2081=\",a1,\";\",u\"\\u03BB\\u2082=\",a2,\";\",u\"\\u03BB\\u2083=\",a3,\"\\n\")\n",
    "v1=eigenvectors.transpose()[0,:]\n",
    "v2=eigenvectors.transpose()[1,:]\n",
    "v3=eigenvectors.transpose()[2,:]\n",
    "print(\"1.b). Corresponding eigonvectors:\\n\", \"\\033[1m v\\u2081\\033[0m = \",v1,\"\\n\", \"\\033[1m v\\u2082\\033[0m = \", v2, \"\\n\",\"\\033[1m v\\u2083\\033[0m = \", v3)"
   ]
  },
  {
   "cell_type": "markdown",
   "metadata": {},
   "source": [
    "Let's check the the relationship $\\mathbf{A}\\mathbf{v_1} = \\lambda_1\\mathbf{v_1}$ is valid."
   ]
  },
  {
   "cell_type": "code",
   "execution_count": 5,
   "metadata": {},
   "outputs": [
    {
     "name": "stdout",
     "output_type": "stream",
     "text": [
      "\u001b[1m Av₁ \u001b[0m = \n",
      " [[-3.72093206]\n",
      " [-6.70488789]\n",
      " [-8.36085845]]\n",
      " λ₁\u001b[1mv₁\u001b[0m = \n",
      " [[-3.72093206]\n",
      " [-6.70488789]\n",
      " [-8.36085845]]\n",
      " The equation is correct. Let's check that this is correct for the higher orders as well.\n",
      " \u001b[1mA\u001b[1mAv₁\u001b[0m = \n",
      " [[-42.2132832 ]\n",
      " [-76.06570795]\n",
      " [-94.85238636]]\n",
      " λ₁²\u001b[1mv₁\u001b[0m = \n",
      " [[-42.2132832 ]\n",
      " [-76.06570795]\n",
      " [-94.85238636]]\n",
      " Therefore, this relation is valid for the higher orders as well.\n"
     ]
    }
   ],
   "source": [
    "print (\"\\033[1m Av\\u2081 \\033[0m = \\n\", A*v1.transpose())\n",
    "print (\" \\u03BB\\u2081\\033[1mv\\u2081\\033[0m = \\n\", a1*v1.transpose())\n",
    "print (\" The equation is correct. Let's check that this is correct for the higher orders as well.\")\n",
    "print (\" \\033[1mA\\033[1mAv\\u2081\\033[0m = \\n\", A*A*v1.transpose())\n",
    "print (\" \\u03BB\\u2081\\u00b2\\033[1mv\\u2081\\033[0m = \\n\", a1**2*v1.transpose())\n",
    "print(\" Therefore, this relation is valid for the higher orders as well.\")"
   ]
  },
  {
   "cell_type": "code",
   "execution_count": 32,
   "metadata": {},
   "outputs": [
    {
     "name": "stdout",
     "output_type": "stream",
     "text": [
      "3. Check whether eigenvectors are orthogonal.\n",
      "\u001b[1m v₁∘v₂\u001b[0m =  [[-2.22044605e-16]]\n",
      "\u001b[1m v₁∘v₃\u001b[0m =  [[-4.4408921e-16]]\n",
      "\u001b[1m v₂∘v₃\u001b[0m =  [[-1.05471187e-15]]\n",
      "These numbers are not exactly equal to zero, but extremely close to it. The reason why it is not equal to zero is related to computational limitations of work with floating numbers.\n"
     ]
    }
   ],
   "source": [
    "print (\"3. Check whether eigenvectors are orthogonal.\")\n",
    "dotv1v2=np.dot(v1,v2.transpose())\n",
    "dotv1v3=np.dot(v1,v3.transpose())\n",
    "dotv2v3=np.dot(v2,v3.transpose())\n",
    "print (\"\\033[1m v\\u2081\\u2218v\\u2082\\033[0m = \", dotv1v2)\n",
    "print (\"\\033[1m v\\u2081\\u2218v\\u2083\\033[0m = \", dotv1v3)\n",
    "print (\"\\033[1m v\\u2082\\u2218v\\u2083\\033[0m = \", dotv2v3)\n",
    "print(\"These numbers are not exactly equal to zero, but extremely close to it. The reason why it is not equal to zero is related to computational limitations of work with floating numbers.\")"
   ]
  },
  {
   "cell_type": "markdown",
   "metadata": {},
   "source": [
    "# Numerical Programming"
   ]
  },
  {
   "cell_type": "markdown",
   "metadata": {},
   "source": [
    "## 8\n",
    "Speed comparison between vectorized and non-vectorized code. Begin by creating an array of 10 million random numbers using the numpy random.randn module. Compute the sum of the squares first in a for loop, then using Numpy's `dot` module. Time how long it takes to compute each and report the results and report the output. How many times faster is the vectorized code than the for loop approach?\n",
    "\n",
    "*Note: all code should be well commented, properly formatted, and your answers should be output using the `print()` function as follows (where the # represents your answers, to a reasonable precision):\n",
    "\n",
    "`Time [sec] (non-vectorized): ######`\n",
    "\n",
    "`Time [sec] (vectorized):     ######`\n",
    "\n",
    "`The vectorized code is ##### times faster than the vectorized code`"
   ]
  },
  {
   "cell_type": "markdown",
   "metadata": {},
   "source": [
    "**ANSWER**"
   ]
  },
  {
   "cell_type": "code",
   "execution_count": 8,
   "metadata": {
    "scrolled": true
   },
   "outputs": [
    {
     "name": "stdout",
     "output_type": "stream",
     "text": [
      "Time [sec] (non-vectorized): 4.172032117843628\n",
      "Time [sec] (vectorized): 0.019270896911621094\n",
      "The vectorized code is 153.237 times faster than the vectorized code\n"
     ]
    }
   ],
   "source": [
    "import numpy as np\n",
    "import time\n",
    "import random\n",
    "# Generate the random samples\n",
    "x = np.random.rand(10000000)\n",
    "# Compute the sum of squares the non-vectorized way (using a for loop)\n",
    "sum_nonvectr=0\n",
    "start_time_1 = time.time()\n",
    "for i in range (len(x)):\n",
    "    sum_nonvectr += x[i]**2; \n",
    "time_nonvctr=time.time() - start_time_1\n",
    "print (\"Time [sec] (non-vectorized):\", time_nonvctr_1)\n",
    "# Compute the sum of squares the vectorized way (using numpy)\n",
    "start_time_2 = time.time()\n",
    "sum_vectr=np.sum(x**2)\n",
    "time_vctr=time.time() - start_time_2\n",
    "print (\"Time [sec] (vectorized):\",time_vctr_2)\n",
    "# Print the results\n",
    "print(\"The vectorized code is\", round(time_nonvctr/time_vctr,3),\"times faster than the vectorized code\")"
   ]
  },
  {
   "cell_type": "markdown",
   "metadata": {},
   "source": [
    "## 9\n",
    "One popular Agile development framework is Scrum (a paradigm recommended for data science projects). It emphasizes the continual evolution of code for projects, becoming progressively better, but starting with a quickly developed minimum viable product. This often means that code written early on is not optimized, and that's a good thing - it's best to get it to work first before optimizing. Imagine that you wrote the following code during a sprint towards getting an end-to-end system working. Vectorize the following code and show the difference in speed between the current implementation and a vectorized version.\n",
    "\n",
    "The function below computes the function $f(x,y) = x^2 - 2 y^2$ and determines whether this quantity is above or below a given threshold, `thresh=0`. This is done for $x,y \\in \\{-4,4\\}$, over a 2,000-by-2,000 grid covering that domain.\n",
    "\n",
    "(a) Vectorize this code and demonstrate (as in the last exercise) the speed increase through vectorization and (b) plot the resulting data - both the function $f(x,y)$ and the thresholded output - using [`imshow`](https://matplotlib.org/api/_as_gen/matplotlib.pyplot.imshow.html?highlight=matplotlib%20pyplot%20imshow#matplotlib.pyplot.imshow) from `matplotlib`.\n",
    "\n",
    "*Hint: look at the `numpy` [`meshgrid`](https://docs.scipy.org/doc/numpy-1.13.0/reference/generated/numpy.meshgrid.html) documentation*"
   ]
  },
  {
   "cell_type": "code",
   "execution_count": 12,
   "metadata": {},
   "outputs": [
    {
     "name": "stdout",
     "output_type": "stream",
     "text": [
      "Non vectorized implementation (sec): 10.278884887695312\n",
      "Vectorized implementation (sec): 0.026958942413330078\n",
      "Vectorized implementation is  381.2792330686099  times faster\n"
     ]
    }
   ],
   "source": [
    "import numpy as np\n",
    "import time\n",
    "import matplotlib.pyplot as plt\n",
    "\n",
    "# Initialize variables for this exerise\n",
    "\n",
    "def function(x,y):\n",
    "    return ((x**2) - (2*y**2))\n",
    "\n",
    "grid = np.zeros((2000, 2000))  # matrix of zeros for the non-vectorized implementation\n",
    "grid1 = np.zeros((2000, 2000)) # matrix of zeros for the vectorized implementation\n",
    "x = np.linspace(-4, 4, 2000) #x vector with values from -4,4 \n",
    "y = np.linspace(-4, 4, 2000) #y vector with values from -4,4\n",
    "x1,y1 = np.meshgrid(x,y) # A N-D coordinate arrays for vectorized evaluations\n",
    "\n",
    "# Nonvectorized implementation\n",
    "start_nonvctr = time.time()\n",
    "for i in range(0,2000):\n",
    "    for j in range(0,2000):\n",
    "        if function(x[i],y[j]) > 0:\n",
    "            grid[i][j] = 1 \n",
    "        if function(x[i],y[j]) < 0:\n",
    "            grid[i][j] = -1\n",
    "end_nonvctr = time.time()\n",
    "# Vectorized implementation\n",
    "start_vctr= time.time()\n",
    "z = f(x1,y1)\n",
    "grid1[z > 0] = 1\n",
    "grid1[z < 0] = -1\n",
    "end_vctr = time.time()\n",
    "\n",
    "# Print the time for each and the speed increase.\n",
    "print('Non vectorized implementation (sec):', end_nonvctr-start_nonvctr)\n",
    "print('Vectorized implementation (sec):', end_vctr-start_vctr)\n",
    "print('Vectorized implementation is ', (end_nonvctr-start_nonvctr)/(end_vctr-start_vctr),' times faster')\n"
   ]
  },
  {
   "cell_type": "code",
   "execution_count": 14,
   "metadata": {},
   "outputs": [
    {
     "data": {
      "image/png": "[encoded data removed]",
      "text/plain": [
       "<Figure size 432x288 with 1 Axes>"
      ]
     },
     "metadata": {},
     "output_type": "display_data"
    }
   ],
   "source": [
    "# Plot the function.\n",
    "plt.title('F(x,y)')\n",
    "plt.xlabel('x')\n",
    "plt.ylabel('Y')\n",
    "plt.xticks(np.linspace(0,2000,5),['-4','-2','0','2','4'])\n",
    "plt.yticks(np.linspace(0,2000,5),['-4','-2','0','2','4'])\n",
    "function = plt.imshow(values)\n"
   ]
  },
  {
   "cell_type": "code",
   "execution_count": 17,
   "metadata": {},
   "outputs": [
    {
     "data": {
      "image/png": "[encoded data removed]",
      "text/plain": [
       "<Figure size 432x288 with 1 Axes>"
      ]
     },
     "metadata": {},
     "output_type": "display_data"
    }
   ],
   "source": [
    "plt.title('Threshold')\n",
    "plt.xlabel('X')\n",
    "plt.ylabel('Y')\n",
    "plt.xticks(np.linspace(0,2000,5),['-4','-2','0','2','4'])\n",
    "plt.yticks(np.linspace(0,2000,5),['-4','-2','0','2','4'])\n",
    "threshhold = plt.imshow(grid1)"
   ]
  },
  {
   "cell_type": "markdown",
   "metadata": {},
   "source": [
    "## 10\n",
    "This exercise will walk through some basic numerical programming exercises.\n",
    "1. Synthesize $n=10^4$ normally distributed data points with mean $\\mu=2$ and a standard deviation of $\\sigma=1$. Call these observations from a random variable $X$, and call the vector of observations that you generate, $\\textbf{x}$.\n",
    "2. Calculate the mean and standard deviation of $\\textbf{x}$ to validate (1) and provide the result to a precision of four significant figures.\n",
    "3. Plot a histogram of the data in $\\textbf{x}$ with 30 bins\n",
    "4. What is the 90th percentile of $\\textbf{x}$? The 90th percentile is the value below which 90% of observations can be found.\n",
    "5. What is the 99th percentile of $\\textbf{x}$?\n",
    "6. Now synthesize $n=10^4$ normally distributed data points with mean $\\mu=0$ and a standard deviation of $\\sigma=3$. Call these observations from a random variable $Y$, and call the vector of observations that you generate, $\\textbf{y}$.\n",
    "7. Plot the histogram of the data in $\\textbf{y}$ on a (new) plot with the histogram of $\\textbf{x}$, so that both histograms can be seen and compared.\n",
    "8. Using the observations from $\\textbf{x}$ and $\\textbf{y}$, estimate $E[XY]$"
   ]
  },
  {
   "cell_type": "markdown",
   "metadata": {},
   "source": [
    "**ANSWER**"
   ]
  },
  {
   "cell_type": "code",
   "execution_count": 38,
   "metadata": {},
   "outputs": [],
   "source": [
    "# 1\n",
    "X = np.random.normal(2, 1, 10000)\n",
    "from matplotlib import pyplot\n",
    "# 2\n",
    "sigma=round(np.std(X),4)\n",
    "mu=round(np.mean(X),4)\n"
   ]
  },
  {
   "cell_type": "code",
   "execution_count": 39,
   "metadata": {},
   "outputs": [
    {
     "name": "stdout",
     "output_type": "stream",
     "text": [
      "3.\n"
     ]
    },
    {
     "data": {
      "image/png": "[encoded data removed]",
      "text/plain": [
       "<Figure size 432x288 with 1 Axes>"
      ]
     },
     "metadata": {},
     "output_type": "display_data"
    }
   ],
   "source": [
    "# 3\n",
    "n, bins, patches = plt.hist(x=X, bins=30, color='#0504aa', rwidth=0.7)\n",
    "plt.grid(axis='y')\n",
    "plt.xlabel('Value')\n",
    "plt.ylabel('Frequency')\n",
    "plt.title('Histograms of X with $\\mu=2, \\sigma=1$')\n",
    "print('3.')"
   ]
  },
  {
   "cell_type": "code",
   "execution_count": 64,
   "metadata": {},
   "outputs": [
    {
     "name": "stdout",
     "output_type": "stream",
     "text": [
      "4. 90th percentale of X is 3.2726990948283654\n",
      "5. 99th percentale of X is 4.30420320022354\n"
     ]
    }
   ],
   "source": [
    "# 4\n",
    "p = np.percentile(X, 90)\n",
    "print ('4. 90th percentale of X is', p)\n",
    "# 5\n",
    "p = np.percentile(X, 99)\n",
    "print ('5. 99th percentale of X is', p)\n",
    "# 6\n",
    "Y = np.random.normal(0, 3, 10000)"
   ]
  },
  {
   "cell_type": "code",
   "execution_count": 114,
   "metadata": {
    "scrolled": true
   },
   "outputs": [
    {
     "name": "stdout",
     "output_type": "stream",
     "text": [
      "7.\n"
     ]
    },
    {
     "data": {
      "image/png": "[encoded data removed]",
      "text/plain": [
       "<Figure size 432x288 with 1 Axes>"
      ]
     },
     "metadata": {},
     "output_type": "display_data"
    }
   ],
   "source": [
    "print('7.')\n",
    "pyplot.hist(Y, 30, alpha=0.8, label='Y',color='#cc0000')\n",
    "pyplot.hist(X, 30, alpha=0.8, label='X',color='#0504aa')\n",
    "pyplot.legend(loc='upper right')\n",
    "plt.grid(axis='y')\n",
    "plt.title('Histograms of X and Y')\n",
    "pyplot.show()"
   ]
  },
  {
   "cell_type": "markdown",
   "metadata": {},
   "source": [
    "8. Since $X$ and $Y$ are random (i.e. independent), $E [XY] = E(X)E(Y)$ = $\\mu_X \\mu_Y$ = 0."
   ]
  },
  {
   "cell_type": "markdown",
   "metadata": {},
   "source": [
    "## 10\n",
    "Estimate the integral of the function $f(x)$ on the interval $0\\leq x < 2.5$ assuming we only know the following points from $f$:\n",
    "\n",
    "*Table 1. Dataset containing n=5 observations*\n",
    "\n",
    "| $x_i$ | 0.0 | 0.5 | 1.0 | 1.5 | 2.0 |\n",
    "|-|-|-|-|-|-|\n",
    "| $y_i$ | 6 | 7 | 8 | 4 | 1 |\n"
   ]
  },
  {
   "cell_type": "markdown",
   "metadata": {},
   "source": [
    "**ANSWER**<br>\n",
    "By using a Riemann sum, we divide the area under the curve into the four rectangulars, each of the width $x_i-x_{i-1}=0.5$ and hight $y_i$, and then find the sum of the areas of these rectangulars $\\sum_{n=1}^{5} y_i \\cdot 0.5$ = 0.5(6+7+8+4+1)=13, which is an estimate for the integral $\\int_{0}^{2}f(x)d(x)$.\n"
   ]
  },
  {
   "cell_type": "markdown",
   "metadata": {
    "collapsed": true
   },
   "source": [
    "# Version Control via Git"
   ]
  },
  {
   "cell_type": "markdown",
   "metadata": {},
   "source": [
    "## 11\n",
    "Complete the [Atlassian Git tutorial](https://www.atlassian.com/git/tutorials/what-is-version-control), specifically the following sections. Try each concept that's presented. For this tutorial, instead of using BitBucket, use Github. Create a github account here if you don't already have one: https://github.com/\n",
    "1. [What is version control](https://www.atlassian.com/git/tutorials/what-is-version-control)\n",
    "2. [What is Git](https://www.atlassian.com/git/tutorials/what-is-git)\n",
    "3. [Install Git](https://www.atlassian.com/git/tutorials/install-git)\n",
    "4. [Setting up a repository](https://www.atlassian.com/git/tutorials/install-git)\n",
    "5. [Saving changes](https://www.atlassian.com/git/tutorials/saving-changes)\n",
    "6. [Inspecting a repository](https://www.atlassian.com/git/tutorials/inspecting-a-repository)\n",
    "7. [Undoing changes](https://www.atlassian.com/git/tutorials/undoing-changes)\n",
    "8. [Rewriting history](https://www.atlassian.com/git/tutorials/rewriting-history)\n",
    "9. [Syncing](https://www.atlassian.com/git/tutorials/syncing)\n",
    "10. [Making a pull request](https://www.atlassian.com/git/tutorials/making-a-pull-request)\n",
    "11. [Using branches](https://www.atlassian.com/git/tutorials/using-branches)\n",
    "12. [Comparing workflows](https://www.atlassian.com/git/tutorials/comparing-workflows)\n",
    "\n",
    "For your answer, affirm that you either completed the tutorial or have previous experience with all of the concepts above. Do this by typing your name below and selecting the situation that applies from the two options in brackets."
   ]
  },
  {
   "cell_type": "markdown",
   "metadata": {},
   "source": [
    "**ANSWER**\n",
    "\n",
    "*I, Iuliia Oblasova, affirm that I have completed the above tutorial."
   ]
  },
  {
   "cell_type": "markdown",
   "metadata": {},
   "source": [
    "## 12\n",
    "Using Github to create a static HTML website:\n",
    "1. Create a branch in your `machine-learning-course` repo called \"gh-pages\" and checkout that branch (this will provide an example of how to create a simple static website using [Github Pages](https://pages.github.com/))\n",
    "2. Create a file called \"index.html\" with the contents \"Hello World\" and add, commit, and push it to that branch.\n",
    "3. Submit the following: (a) a link to your github repository and (b) a link to your new \"Hello World\" website. The latter should be at the address https://[USERNAME].github.io/ECE590-assignment0 (where [USERNAME] is your github username)."
   ]
  },
  {
   "cell_type": "markdown",
   "metadata": {},
   "source": [
    "**ANSWER**<br>\n",
    "https://iuliiao.github.io/ - \"Hello World\" website.<br>\n",
    "https://github.com/IuliiaO/machine-learning-course/tree/gh-pages - link to the github repository."
   ]
  },
  {
   "cell_type": "markdown",
   "metadata": {
    "collapsed": true
   },
   "source": [
    "# Exploratory Data Analysis\n",
    "## 13\n",
    "Here you'll bring together some of the individual skills that you demonstrated above and create a Jupyter notebook based blog post on data analysis.\n",
    "\n",
    "1. Find a dataset that interests you and relates to a question or problem that you find intriguing\n",
    "2. Using a Jupyter notebook, describe the dataset, the source of the data, and the reason the dataset was of interest.\n",
    "3. Check the data and see if they need to be cleaned: are there missing values? Are there clearly erroneous values? Do two tables need to be merged together? Clean the data so it can be visualized.\n",
    "3. Plot the data, demonstrating interesting features that you discover. Are there any relationships between variables that were surprising or patterns that emerged? Please exercise creativity and curiosity in your plots.\n",
    "4. What insights are you able to take away from exploring the data? Is there a reason why analyzing the dataset you chose is particularly interesting or important? Summarize this as if your target audience was the readership of a major news organization - boil down your findings in a way that is accessible, but still accurate.\n",
    "5. Create a public repository on your github account titled \"machine-learning-course\". In it, create a readme file that contains the heading \"ECE590: Introductory Machine Learning for Data Science\". Add, commit, and push that Jupyter notebook to the master branch. Provide the link to the that post here."
   ]
  },
  {
   "cell_type": "markdown",
   "metadata": {},
   "source": [
    "**ANSWER**\n",
    "\n",
    "https://github.com/IuliiaO/machine-learning-course/blob/ca9f087f617b69d3b950e34a77978f8e90dc34dc/%22ECE590:%20Introductory%20Machine%20Learning%20for%20Data%20Science%22"
   ]
  },
  {
   "cell_type": "code",
   "execution_count": 1,
   "metadata": {},
   "outputs": [
    {
     "data": {
      "text/plain": [
       "(808, 11)"
      ]
     },
     "execution_count": 1,
     "metadata": {},
     "output_type": "execute_result"
    }
   ],
   "source": [
    "import numpy as np\n",
    "import pandas as pd\n",
    "import matplotlib.pyplot as plt\n",
    "happy = pd.read_csv(\"./happy.csv\", na_values = 'Not applicable', low_memory=False) #Importing the file with \"Non applicable data as NA\"\n",
    "happy2=happy.dropna()\n",
    "happy2.shape #Displays the dimensions of a data frame"
   ]
  },
  {
   "cell_type": "markdown",
   "metadata": {},
   "source": [
    "General Social Survey (GSS NORC) was collecting data since 1972 from thousands of people all across the U.S. For the purposes of this analysis, we used data only from 2016 since this year has the least number of missing data. Overall, 2867 observations of 12 variables were collected, among which only one variable (\"education\") is continious . Each observation represents the responses of one person. After dropping the missing values, the data set still contains a large amount of information - 808 observations, which we will use as a foundation for the research. Let's check the distributions of the variables."
   ]
  },
  {
   "cell_type": "code",
   "execution_count": 2,
   "metadata": {},
   "outputs": [
    {
     "data": {
      "text/plain": [
       "['happiness',\n",
       " 'marriage_satisf',\n",
       " 'health',\n",
       " 'excitement',\n",
       " 'race',\n",
       " 'labor_status',\n",
       " 'marital_status',\n",
       " 'children',\n",
       " 'age',\n",
       " 'education',\n",
       " 'sex']"
      ]
     },
     "execution_count": 2,
     "metadata": {},
     "output_type": "execute_result"
    }
   ],
   "source": [
    "list(happy2.columns.values)"
   ]
  },
  {
   "cell_type": "markdown",
   "metadata": {},
   "source": [
    "Let's compare the frequencies of the categorical data."
   ]
  },
  {
   "cell_type": "code",
   "execution_count": 3,
   "metadata": {},
   "outputs": [
    {
     "data": {
      "text/plain": [
       "Text(0.5,1,'Happiness')"
      ]
     },
     "execution_count": 3,
     "metadata": {},
     "output_type": "execute_result"
    },
    {
     "data": {
      "image/png": "[encoded data removed]",
      "text/plain": [
       "<Figure size 432x288 with 1 Axes>"
      ]
     },
     "metadata": {},
     "output_type": "display_data"
    }
   ],
   "source": [
    "happiness_bar=happy2['happiness'].value_counts().plot(kind='bar')\n",
    "happiness_bar.set_title(\"Happiness\", fontsize=18)"
   ]
  },
  {
   "cell_type": "code",
   "execution_count": 4,
   "metadata": {},
   "outputs": [
    {
     "data": {
      "text/plain": [
       "Text(0.5,1,'Satisfaction in marriage')"
      ]
     },
     "execution_count": 4,
     "metadata": {},
     "output_type": "execute_result"
    },
    {
     "data": {
      "image/png": "[encoded data removed]",
      "text/plain": [
       "<Figure size 432x288 with 1 Axes>"
      ]
     },
     "metadata": {},
     "output_type": "display_data"
    }
   ],
   "source": [
    "ms=happy2['marriage_satisf'].value_counts().plot(kind='bar')\n",
    "ms.set_title('Satisfaction in marriage', fontsize=18)"
   ]
  },
  {
   "cell_type": "code",
   "execution_count": 5,
   "metadata": {},
   "outputs": [
    {
     "data": {
      "image/png": "[encoded data removed]",
      "text/plain": [
       "<Figure size 432x288 with 1 Axes>"
      ]
     },
     "metadata": {},
     "output_type": "display_data"
    }
   ],
   "source": [
    "sexbar=happy2['sex'].value_counts()\n",
    "labels = 'Female', 'Male'\n",
    "sizes = [53, 47]\n",
    "explode = (0, 0.1)  # only \"explode\" the 2nd slice (i.e. 'Hogs')\n",
    "\n",
    "fig1, ax1 = plt.subplots()\n",
    "ax1.pie(sizes, explode=explode, labels=labels, autopct='%1.1f%%',\n",
    "        shadow=True, startangle=90)\n",
    "ax1.axis('equal')  # Equal aspect ratio ensures that pie is drawn as a circle.\n",
    "\n",
    "plt.show()"
   ]
  },
  {
   "cell_type": "code",
   "execution_count": 6,
   "metadata": {},
   "outputs": [
    {
     "data": {
      "text/plain": [
       "Text(0.5,1,\"Participants' labor status\")"
      ]
     },
     "execution_count": 6,
     "metadata": {},
     "output_type": "execute_result"
    },
    {
     "data": {
      "image/png": "[encoded data removed]",
      "text/plain": [
       "<Figure size 432x288 with 1 Axes>"
      ]
     },
     "metadata": {},
     "output_type": "display_data"
    }
   ],
   "source": [
    "labor_status_bar=happy2['labor_status'].value_counts().plot(kind='bar')\n",
    "labor_status_bar.set_title(\"Participants' labor status\", fontsize=18)"
   ]
  },
  {
   "cell_type": "code",
   "execution_count": 7,
   "metadata": {},
   "outputs": [],
   "source": [
    "happy3=happy2.loc[(happy2[\"happiness\"] == \"Very happy\") & (happy2[\"sex\"] == 'Female')]\n",
    "#173 observations among 432 women.\n",
    "happy4=happy2.loc[(happy2[\"happiness\"] == \"Very happy\") & (happy2[\"sex\"] == 'Male')]\n",
    "#146 observations among 376 men."
   ]
  },
  {
   "cell_type": "markdown",
   "metadata": {},
   "source": [
    "Observations:\n",
    "\n",
    "The data set had a large percentage of missing data (11%) with the highest proportion of missing values for the variable \"marriage satisfaction\". It could be potentially explained by respondents' rejection to answer this question by personal reasons and, thefore, missing not completely at random.\n",
    "The proportion of woman identified themselves as \"happy\" is higher then a similar propotion of men by 2%.\n",
    "Education and number of children are correlated negatively, implying that people with a higher level of education tend on average have less children, whereas age and education correlated positevely."
   ]
  },
  {
   "cell_type": "code",
   "execution_count": null,
   "metadata": {},
   "outputs": [],
   "source": []
  }
 ],
 "metadata": {
  "kernelspec": {
   "display_name": "Python 3",
   "language": "python",
   "name": "python3"
  },
  "language_info": {
   "codemirror_mode": {
    "name": "ipython",
    "version": 3
   },
   "file_extension": ".py",
   "mimetype": "text/x-python",
   "name": "python",
   "nbconvert_exporter": "python",
   "pygments_lexer": "ipython3",
   "version": "3.6.5"
  }
 },
 "nbformat": 4,
 "nbformat_minor": 2
}
